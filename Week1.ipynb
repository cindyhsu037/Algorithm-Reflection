{
 "cells": [
  {
   "cell_type": "markdown",
   "metadata": {},
   "source": [
    "### Please submit all of the first homework assigment in this file"
   ]
  },
  {
   "cell_type": "markdown",
   "metadata": {},
   "source": [
    "Name:Hsiao Yu,Hsu\n"
   ]
  },
  {
   "cell_type": "code",
   "execution_count": 34,
   "metadata": {},
   "outputs": [
    {
     "name": "stdout",
     "output_type": "stream",
     "text": [
      "4.25\n"
     ]
    }
   ],
   "source": [
    "# Question 1\n",
    "def square_root(n,epsilon):\n",
    "    Bottom = 0\n",
    "    Upper = max(1.0,n)\n",
    "    y = (Bottom+Upper)/2.0\n",
    "    while abs(y**2-n)>=epsilon:\n",
    "        if y**2 < n:\n",
    "            Bottom = y\n",
    "        else:\n",
    "            Upper = y\n",
    "        y = (Bottom+Upper)/2.0\n",
    "    return y\n",
    "\n",
    "print(square_root(17,2))"
   ]
  },
  {
   "cell_type": "markdown",
   "metadata": {},
   "source": [
    "For Question 1,try to use binary method to find the error no more than epslion."
   ]
  },
  {
   "cell_type": "code",
   "execution_count": 14,
   "metadata": {},
   "outputs": [
    {
     "name": "stdout",
     "output_type": "stream",
     "text": [
      "55\n"
     ]
    }
   ],
   "source": [
    "#2. Question 2\n",
    "def sumofNSlow(n):\n",
    "    return sum(range(n+1))\n",
    "    \n",
    "print(sumofNSlow(10))\n",
    "    ###"
   ]
  },
  {
   "cell_type": "code",
   "execution_count": 22,
   "metadata": {},
   "outputs": [
    {
     "name": "stdout",
     "output_type": "stream",
     "text": [
      "55\n"
     ]
    }
   ],
   "source": [
    "def sumofNFast(n):\n",
    "    sum = 0\n",
    "    i = 0\n",
    "    while i <= n: \n",
    "        sum = sum + i\n",
    "        i += 1\n",
    "    return sum\n",
    "    \n",
    "print(sumofNFast(10))\n",
    "    ###"
   ]
  },
  {
   "cell_type": "code",
   "execution_count": 36,
   "metadata": {},
   "outputs": [
    {
     "name": "stdout",
     "output_type": "stream",
     "text": [
      "True\n"
     ]
    }
   ],
   "source": [
    "#Question 3\n",
    "def palindrome(string):\n",
    "    for i in range(len(string)):\n",
    "        if string[i] == string[len(string) - i - 1]:\n",
    "            return True\n",
    "        else:\n",
    "            return False\n",
    "print(palindrome('ajkkja'))\n",
    "\n",
    "    ###"
   ]
  },
  {
   "cell_type": "markdown",
   "metadata": {},
   "source": [
    "For Question 3,comapre every element in the string input to make sure this string is qulified for the definition of palindrome."
   ]
  },
  {
   "cell_type": "code",
   "execution_count": null,
   "metadata": {},
   "outputs": [],
   "source": [
    "#Question 4 Original Code\n",
    "#mystery1 takes as input a list of integers and finds the smallest difference between any two numbers in the list\n",
    "def mystery1 (myList):\n",
    "    if len(myList)<2:\n",
    "        print(\"List must be of length at least 2\")\n",
    "        return None\n",
    "    if not all(isinstance(x, int) for x in myList):\n",
    "        print(\"Input list must be all integers\")\n",
    "        return None\n",
    "    smallestDif=abs(myList[1]-myList[0])\n",
    "    for i in range(len(myList)-1):\n",
    "        for j in range(i+1, len(myList)):\n",
    "            if abs(myList[i]-myList[j])<smallestDif:\n",
    "                smallestDif=abs(myList[i]-myList[j])\n",
    "    return smallestDif\n",
    "\n",
    "print(mystery1([1,-3,9,5]))"
   ]
  },
  {
   "cell_type": "code",
   "execution_count": 30,
   "metadata": {},
   "outputs": [
    {
     "name": "stdout",
     "output_type": "stream",
     "text": [
      "4\n"
     ]
    }
   ],
   "source": [
    "#Question 4 Answer Code\n",
    "#mystery1 takes as input a list of integers and finds the smallest difference between any two numbers in the list \n",
    "def mystery1 (myList):\n",
    "    if len(myList)<2:\n",
    "        print(\"List must be of length at least 2\")\n",
    "        return None\n",
    "    if not all(isinstance(x, int) for x in myList):\n",
    "        print(\"Input list must be all integers\")\n",
    "        return None\n",
    "    myList1=sorted(myList)\n",
    "    smallestDif=abs(myList[1]-myList[0])\n",
    "    for i in range(len(myList)-1):\n",
    "        if myList1[i+1] - myList1[i] < smallestDif: \n",
    "            smallestDif= myList1[i+1] - myList1[i]\n",
    "    return smallestDif\n",
    "\n",
    "print(mystery1([1,-3,9,5]))\n",
    "    "
   ]
  },
  {
   "cell_type": "markdown",
   "metadata": {},
   "source": [
    "For Question 4, use sorted function to decrease the number of iterations"
   ]
  },
  {
   "cell_type": "markdown",
   "metadata": {},
   "source": [
    "#Question 5\n",
    "\n",
    "a.2^n slower than 1000n^3 ? \n",
    "yes,2^n slower. Because 2^n is O(2n) and 1000n^3 is O(n3), O(2n) takes more time. \n",
    "\n",
    "b.1000 log⁡〖n〗  slower than n? \n",
    "No,log〖n〗 is faster. Bescause log〖n〗is O(logn), n is log(n).\n",
    "\n",
    "c.1000n  slower than n^2?\n",
    "No,1000n is faster.Because 1000n is only O(n), n^2 is O(n2).\n"
   ]
  }
 ],
 "metadata": {
  "kernelspec": {
   "display_name": "Python 3",
   "language": "python",
   "name": "python3"
  },
  "language_info": {
   "codemirror_mode": {
    "name": "ipython",
    "version": 3
   },
   "file_extension": ".py",
   "mimetype": "text/x-python",
   "name": "python",
   "nbconvert_exporter": "python",
   "pygments_lexer": "ipython3",
   "version": "3.7.6"
  }
 },
 "nbformat": 4,
 "nbformat_minor": 4
}
