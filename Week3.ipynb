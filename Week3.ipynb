{
 "cells": [
  {
   "cell_type": "markdown",
   "metadata": {},
   "source": [
    "### Please submit all of the first homework assigment in this file"
   ]
  },
  {
   "cell_type": "markdown",
   "metadata": {},
   "source": [
    "Name: \n"
   ]
  },
  {
   "cell_type": "code",
   "execution_count": null,
   "metadata": {},
   "outputs": [],
   "source": [
    "from flarray import FixedLengthArray\n",
    "\n",
    "\n",
    "class Queue(FixedLengthArray):\n",
    "    '''Implementation of the queue abstract data structure as a child of FixedLengthArray'''\n",
    "    \n",
    "    def __init__(self,capacity):\n",
    "        ### hint: add pointers to start and end of queue\n",
    "        \n",
    "    def enqueue(self, item):\n",
    "        ### hint: dynamically change the start and end of queue locations using pointers \n",
    "            \n",
    "    def dequeue(self):\n",
    "         ### hint: dynamically change the start and end of queue locations using pointers \n",
    "\n",
    "    \n"
   ]
  },
  {
   "cell_type": "code",
   "execution_count": null,
   "metadata": {},
   "outputs": [],
   "source": [
    "from flarray import FixedLengthArray\n",
    "\n",
    "# HashTable works with integer inputs\n",
    "class HashTable(FixedLengthArray):\n",
    "    '''Implementation of the hash table abstract data structure as a child of FixedLengthArray'''\n",
    "    # You can implement conflicts any way you like. I suggest simply using a python list\n",
    "    \n",
    "    def __init__(self,capacity):\n",
    "  \n",
    "        \n",
    "    def insert(self, item):\n",
    "\n",
    "            \n",
    "    def delete(self, item):\n",
    "\n",
    "        \n",
    "    def search(self, item):\n",
    "        #returns True/False\n",
    "    \n"
   ]
  },
  {
   "cell_type": "code",
   "execution_count": 5,
   "metadata": {},
   "outputs": [],
   "source": [
    "#Question 4\n",
    "\n",
    "import treeNode as tn\n",
    "\n"
   ]
  },
  {
   "cell_type": "code",
   "execution_count": null,
   "metadata": {},
   "outputs": [],
   "source": []
  },
  {
   "cell_type": "code",
   "execution_count": null,
   "metadata": {},
   "outputs": [],
   "source": []
  }
 ],
 "metadata": {
  "kernelspec": {
   "display_name": "Python 3",
   "language": "python",
   "name": "python3"
  },
  "language_info": {
   "codemirror_mode": {
    "name": "ipython",
    "version": 3
   },
   "file_extension": ".py",
   "mimetype": "text/x-python",
   "name": "python",
   "nbconvert_exporter": "python",
   "pygments_lexer": "ipython3",
   "version": "3.7.6"
  }
 },
 "nbformat": 4,
 "nbformat_minor": 4
}
