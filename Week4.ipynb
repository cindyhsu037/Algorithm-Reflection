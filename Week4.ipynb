{
 "cells": [
  {
   "cell_type": "markdown",
   "metadata": {},
   "source": [
    "## Homework 4 ##"
   ]
  },
  {
   "cell_type": "markdown",
   "metadata": {},
   "source": [
    "# Name: Hsiao Yu, Hsu #"
   ]
  },
  {
   "cell_type": "markdown",
   "metadata": {},
   "source": [
    "## Qestion1 ##"
   ]
  },
  {
   "cell_type": "code",
   "execution_count": 21,
   "metadata": {},
   "outputs": [],
   "source": [
    "def BFS(g,s):\n",
    "    explored = []\n",
    "    queue = [s] \n",
    "    levels = {}         \n",
    "    levels[s]= 0    \n",
    "    visited= [s]     \n",
    "    parent={}\n",
    "    # keep looping until there are nodes still to be checked\n",
    "    while queue:\n",
    "       # pop shallowest node (first node) from queue\n",
    "        node = queue.pop(0)\n",
    "        explored.append(node)\n",
    "        print(node)\n",
    "        neighbours = g[node] \n",
    "        \n",
    "        # add neighbours of node to queue, for comparison\n",
    "        for neighbour in neighbours:\n",
    "            if neighbour not in visited:\n",
    "                queue.append(neighbour)\n",
    "                visited.append(neighbour)\n",
    "                parent[neighbour]=node\n",
    "                levels[neighbour]=levels[node]+1 #Levels from the \"parent\" +1\n",
    "                \n",
    "    print(parent)\n",
    "    print(levels)"
   ]
  },
  {
   "cell_type": "code",
   "execution_count": 22,
   "metadata": {},
   "outputs": [
    {
     "name": "stdout",
     "output_type": "stream",
     "text": [
      "G\n",
      "C\n",
      "A\n",
      "F\n",
      "B\n",
      "E\n",
      "D\n",
      "{'C': 'G', 'A': 'C', 'F': 'C', 'B': 'A', 'E': 'A', 'D': 'B'}\n",
      "{'G': 0, 'C': 1, 'A': 2, 'F': 2, 'B': 3, 'E': 3, 'D': 4}\n"
     ]
    }
   ],
   "source": [
    "graph = {'A': ['B', 'C', 'E'],\n",
    "         'B': ['A','D', 'E'],\n",
    "         'C': ['A', 'F', 'G'],\n",
    "         'D': ['B'],\n",
    "         'E': ['A', 'B','D'],\n",
    "         'F': ['C'],\n",
    "         'G': ['C']}\n",
    "BFS(graph,'G')"
   ]
  },
  {
   "cell_type": "markdown",
   "metadata": {},
   "source": [
    "## Question2 ##"
   ]
  },
  {
   "cell_type": "code",
   "execution_count": 23,
   "metadata": {},
   "outputs": [],
   "source": [
    "def BFS(g,s,unvisited):\n",
    "    explored = []\n",
    "    queue = [s]\n",
    "    levels = {}         \n",
    "    levels[s]= 0    \n",
    "    visited= [s]\n",
    "    parent={}\n",
    "    while queue:\n",
    "       # pop shallowest node (first node) from queue\n",
    "        node = queue.pop(0)\n",
    "        explored.append(node)\n",
    "        neighbours = g[node] #'A','D','E'\n",
    "        \n",
    "        # add neighbours of node to queue, for comparison\n",
    "        for neighbour in neighbours:\n",
    "            if neighbour not in visited:\n",
    "                queue.append(neighbour)\n",
    "                visited.append(neighbour)\n",
    "                unvisited.pop(neighbour) \n",
    "                parent[neighbour]=node\n",
    "                levels[neighbour]=levels[node]+1 #Levels from the \"parent\" +1\n",
    "\n",
    "def NumberOfComponents(g):\n",
    "    unvisited = {}\n",
    "    unvisited = g.copy()  \n",
    "    count = 0\n",
    "    while unvisited: #stop processing the bfs while none in the unvisited\n",
    "        start= unvisited.popitem()[0]\n",
    "        #print(start)\n",
    "        BFS(g,start,unvisited)\n",
    "        count += 1\n",
    "    print(count)"
   ]
  },
  {
   "cell_type": "code",
   "execution_count": 24,
   "metadata": {},
   "outputs": [
    {
     "name": "stdout",
     "output_type": "stream",
     "text": [
      "2\n"
     ]
    }
   ],
   "source": [
    "graph = {'A': ['B', 'C', 'E'],\n",
    "         'B': ['A','D', 'E'],\n",
    "         'C': ['A', 'F'],\n",
    "         'D': ['B'],\n",
    "         'E': ['A', 'B','D'],\n",
    "         'F': ['C'],\n",
    "         'G': ['H'],\n",
    "         'H':['G']}\n",
    "NumberOfComponents(graph)"
   ]
  },
  {
   "cell_type": "markdown",
   "metadata": {},
   "source": [
    "## Question3 ##"
   ]
  },
  {
   "cell_type": "code",
   "execution_count": 17,
   "metadata": {},
   "outputs": [],
   "source": [
    "def RandomGraph(n, p):\n",
    "    import networkx as nx\n",
    "    from itertools import combinations, groupby\n",
    "    edges = combinations(range(n), 2)\n",
    "    G = nx.Graph()\n",
    "    G.add_nodes_from(range(n))\n",
    "    if p <= 0:\n",
    "        return G\n",
    "    if p >= 1:\n",
    "        return nx.complete_graph(n, create_using=G)\n",
    "    for _, node_edges in groupby(edges, key=lambda x: x[0]):\n",
    "        node_edges = list(node_edges)\n",
    "        random_edge = random.choice(node_edges)\n",
    "        G.add_edge(*random_edge)\n",
    "        for e in node_edges:\n",
    "            if random.random() < p:\n",
    "                G.add_edge(*e)\n",
    "    return G"
   ]
  },
  {
   "cell_type": "code",
   "execution_count": 20,
   "metadata": {},
   "outputs": [
    {
     "ename": "TypeError",
     "evalue": "BFS() missing 1 required positional argument: 'unvisited'",
     "output_type": "error",
     "traceback": [
      "\u001b[1;31m---------------------------------------------------------------------------\u001b[0m",
      "\u001b[1;31mTypeError\u001b[0m                                 Traceback (most recent call last)",
      "\u001b[1;32m<ipython-input-20-a08413cd9e5d>\u001b[0m in \u001b[0;36m<module>\u001b[1;34m\u001b[0m\n\u001b[0;32m      9\u001b[0m \u001b[1;33m\u001b[0m\u001b[0m\n\u001b[0;32m     10\u001b[0m \u001b[1;31m#print (testgraph_dict)\u001b[0m\u001b[1;33m\u001b[0m\u001b[1;33m\u001b[0m\u001b[1;33m\u001b[0m\u001b[0m\n\u001b[1;32m---> 11\u001b[1;33m \u001b[0mBFS\u001b[0m\u001b[1;33m(\u001b[0m\u001b[0mtestgraph_dict\u001b[0m\u001b[1;33m,\u001b[0m \u001b[1;36m4\u001b[0m\u001b[1;33m)\u001b[0m\u001b[1;33m\u001b[0m\u001b[1;33m\u001b[0m\u001b[0m\n\u001b[0m\u001b[0;32m     12\u001b[0m \u001b[0mNumberOfComponents\u001b[0m\u001b[1;33m(\u001b[0m\u001b[0mtestgraph_dict\u001b[0m\u001b[1;33m)\u001b[0m\u001b[1;33m\u001b[0m\u001b[1;33m\u001b[0m\u001b[0m\n",
      "\u001b[1;31mTypeError\u001b[0m: BFS() missing 1 required positional argument: 'unvisited'"
     ]
    },
    {
     "data": {
      "image/png": "[encoded data removed]",
      "text/plain": [
       "<Figure size 576x360 with 1 Axes>"
      ]
     },
     "metadata": {},
     "output_type": "display_data"
    }
   ],
   "source": [
    "seed = random.randint(1,10)\n",
    "probability = 0.7\n",
    "testgraph = RandomGraph(nodes,probability)\n",
    "testgraph_dict=nx.to_dict_of_dicts(testgraph)\n",
    "plt.figure(figsize=(8,5))\n",
    "nx.draw(testgraph, node_color='lightblue', \n",
    "        with_labels=True, \n",
    "        node_size=500)\n",
    "\n",
    "#print (testgraph_dict)\n",
    "BFS(testgraph_dict, 4)\n",
    "NumberOfComponents(testgraph_dict)\n"
   ]
  },
  {
   "cell_type": "markdown",
   "metadata": {},
   "source": [
    "## Question4 ##"
   ]
  },
  {
   "cell_type": "markdown",
   "metadata": {},
   "source": [
    "procedure BellmanFord(list vertices, list edges, vertex source)  \n",
    "    \n",
    "   for each vertex v in vertices:  \n",
    "       if v is source then distance[v] := 0  \n",
    "       else distance[v] := infinity  \n",
    "       predecessor[v] := null  \n",
    " \n",
    "   for i from 1 to size(vertices)-1:  \n",
    "       for each edge (u, v) with weight w in edges:  \n",
    "           if distance[u] + w < distance[v]:  \n",
    "               distance[v] := distance[u] + w  \n",
    "               predecessor[v] := u  \n",
    "  \n",
    "   for each edge (u, v) with weight w in edges:  \n",
    "       if distance[u] + w < distance[v]:  \n",
    "           error \"Graph contains a negative-weight cycle\"\n"
   ]
  }
 ],
 "metadata": {
  "kernelspec": {
   "display_name": "Python 3",
   "language": "python",
   "name": "python3"
  },
  "language_info": {
   "codemirror_mode": {
    "name": "ipython",
    "version": 3
   },
   "file_extension": ".py",
   "mimetype": "text/x-python",
   "name": "python",
   "nbconvert_exporter": "python",
   "pygments_lexer": "ipython3",
   "version": "3.7.6"
  }
 },
 "nbformat": 4,
 "nbformat_minor": 4
}
